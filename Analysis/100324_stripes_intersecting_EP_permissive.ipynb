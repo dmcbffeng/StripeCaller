{
 "cells": [
  {
   "cell_type": "code",
   "execution_count": 2,
   "id": "40ee9921",
   "metadata": {},
   "outputs": [],
   "source": [
    "stripepath={\n",
    "        'Zebra': \"/nfs/turbo/umms-drjieliu/usr/temp_Fan/Quagga/baselines/StripeCaller/GM12878.bedpe\",\n",
    "        'StripeNN': '/nfs/turbo/umms-drjieliu/usr/temp_Fan/Quagga/baselines/stripenn/GM12878/results_filtered.tsv',\n",
    "        'Quagga': '/nfs/turbo/umms-drjieliu/proj/Quagga/data/GM12878_bulk/5000nt_MR10000000_ML50000_MD7000000_MW50000_WS7_SG1RH0.3_NSTR10_ALL_hg38GM12878_completedfiltered.txt'\n",
    "}"
   ]
  },
  {
   "cell_type": "code",
   "execution_count": 53,
   "id": "3b60cd3b",
   "metadata": {},
   "outputs": [],
   "source": [
    "%%bash\n",
    "\n",
    "awk '{\n",
    "    if ($4 == 2 || $4 == 6 || $4 == 7) {\n",
    "        $4 = 1;\n",
    "        print;\n",
    "    }\n",
    "}' /nfs/turbo/umms-drjieliu/proj/ENCODE/ChromHMM/GM12878_GMM_liftover_hg38/E116_15_coreMarks_hg38lift_stateno.bed > ./HMM_anno_peaks/GM12878_HMM_hg38_EPanno_.bed "
   ]
  },
  {
   "cell_type": "code",
   "execution_count": 5,
   "id": "02d98cf2",
   "metadata": {},
   "outputs": [],
   "source": [
    "def _zebra_read_stripes(file_name):\n",
    "    \n",
    "    hold_dict = {x:[] for x in [f\"chr{n}\" for n in range(1,23)] + [\"chrX\"]}\n",
    "    source_dict = {5:{x:[] for x in [f\"chr{n}\" for n in range(1,23)] + [\"chrX\"]},3:{x:[] for x in [f\"chr{n}\" for n in range(1,23)] + [\"chrX\"]}}\n",
    "    \n",
    "    check_c = [f\"chr{n}\" for n in range(1,23)] + [\"chrX\"]\n",
    "    var5 = []\n",
    "    var3 = []\n",
    "    incre=-1\n",
    "#     with open(\"/home/spmoran/temp_smoran/Fan_StripeCaller/2024_SummerPublishPush/zebra_merge/GM12878.bedpe\", \"r\") as f:\n",
    "    with open(file_name, \"r\") as f:\n",
    "        f.readline()\n",
    "        for line in f:\n",
    "            chromo,c1,c2,_,c4,c5=line.split()\n",
    "            if chromo != check_c[0]:\n",
    "                check_c.pop(0)\n",
    "            incre+=1\n",
    "            if int(c2)-int(c1)<int(c5)-int(c4):\n",
    "                source_dict[5][chromo]+=[tuple((incre,chromo,*[int(x) for x in [c1,c2,c4,c5]]))]\n",
    "            else:\n",
    "                source_dict[3][chromo]+=[tuple((incre,chromo,*[int(x) for x in [c1,c2,c4,c5]]))]\n",
    "                \n",
    "    return source_dict, hold_dict"
   ]
  },
  {
   "cell_type": "code",
   "execution_count": 6,
   "id": "4f9af3b7",
   "metadata": {},
   "outputs": [],
   "source": [
    "def _stripeNN_read_stripes(file_name):\n",
    "    \n",
    "    hold_dict = {x:[] for x in [f\"chr{n}\" for n in range(1,23)] + [\"chrX\"]}\n",
    "    source_dict = {5:{x:[] for x in [f\"chr{n}\" for n in range(1,23)] + [\"chrX\"]},3:{x:[] for x in [f\"chr{n}\" for n in range(1,23)] + [\"chrX\"]}}\n",
    "    \n",
    "    check_c = [f\"chr{n}\" for n in range(1,23)] + [\"chrX\"]\n",
    "    var5 = []\n",
    "    var3 = []\n",
    "    incre=-1\n",
    "#     with open(\"/home/spmoran/temp_smoran/Fan_StripeCaller/2024_SummerPublishPush/zebra_merge/GM12878.bedpe\", \"r\") as f:\n",
    "    with open(file_name, \"r\") as f:\n",
    "        f.readline()\n",
    "        for line in f:\n",
    "            chromo,c1,c2,_,c4,c5,l,w,mean,maxpx,pval,stripiness=line.rstrip(\"\\n\").split(\"\\t\")\n",
    "            if chromo != check_c[0]:\n",
    "                check_c.pop(0)\n",
    "            incre+=1\n",
    "            if int(c2)-int(c1)<int(c5)-int(c4):\n",
    "                source_dict[5][chromo]+=[tuple((incre,chromo,*[int(x) for x in [c1,c2,c4,c5]]+[l,w,mean,maxpx,pval,stripiness]))]\n",
    "            else:\n",
    "                source_dict[3][chromo]+=[tuple((incre,chromo,*[int(x) for x in [c1,c2,c4,c5]]+[l,w,mean,maxpx,pval,stripiness]))]\n",
    "                \n",
    "    return source_dict, hold_dict"
   ]
  },
  {
   "cell_type": "code",
   "execution_count": 7,
   "id": "f82e139a",
   "metadata": {},
   "outputs": [],
   "source": [
    "def _read_stripes(file_name):\n",
    "    \n",
    "    hold_dict = {x:[] for x in [f\"chr{n}\" for n in range(1,23)] + [\"chrX\"]}\n",
    "    source_dict = {5:{x:[] for x in [f\"chr{n}\" for n in range(1,23)] + [\"chrX\"]},3:{x:[] for x in [f\"chr{n}\" for n in range(1,23)] + [\"chrX\"]}}\n",
    "    \n",
    "    check_c = [f\"chr{n}\" for n in range(1,23)] + [\"chrX\"]\n",
    "    var5 = []\n",
    "    var3 = []\n",
    "    incre=-1\n",
    "#     with open(\"/home/spmoran/temp_smoran/Fan_StripeCaller/2024_SummerPublishPush/zebra_merge/GM12878.bedpe\", \"r\") as f:\n",
    "    with open(file_name, \"r\") as f:\n",
    "        f.readline()\n",
    "        for line in f:\n",
    "            chromo,c1,c2,_,c4,c5,pval=line.rstrip(\"\\n\").split()\n",
    "            if chromo != check_c[0]:\n",
    "                check_c.pop(0)\n",
    "            incre+=1\n",
    "            if int(c2)-int(c1)<int(c5)-int(c4):\n",
    "                source_dict[5][chromo]+=[tuple((incre,chromo,*[int(x) for x in [c1,c2,c4,c5]]+[float(pval)]))]\n",
    "            else:\n",
    "                source_dict[3][chromo]+=[tuple((incre,chromo,*[int(x) for x in [c1,c2,c4,c5]]+[float(pval)]))]\n",
    "                \n",
    "    return source_dict, hold_dict"
   ]
  },
  {
   "cell_type": "code",
   "execution_count": 8,
   "id": "66fb6692",
   "metadata": {},
   "outputs": [],
   "source": [
    "def _read_peaks(file_name):\n",
    "    \n",
    "    hold_pdict = {x:[] for x in [f\"chr{n}\" for n in range(1,23)] + [\"chrX\"]+[\"chrY\"]}\n",
    "    source_pdict = {x:[] for x in [f\"chr{n}\" for n in range(1,23)] + [\"chrX\"]+[\"chrY\"]}\n",
    "    \n",
    "    check_c = [f\"chr{n}\" for n in range(1,23)] + [\"chrX\"] + [\"chrY\"]\n",
    "    var5 = []\n",
    "    var3 = []\n",
    "    incre=-1\n",
    "#     with open(\"/home/spmoran/temp_smoran/Fan_StripeCaller/2024_SummerPublishPush/zebra_merge/GM12878.bedpe\", \"r\") as f:\n",
    "    with open(file_name, \"r\") as f:\n",
    "        f.readline()\n",
    "        for line in f:\n",
    "            chromo,c1,c2,payload=line.split()\n",
    "            if chromo != check_c[0]:\n",
    "                check_c.pop(0)\n",
    "            incre+=1\n",
    "#             if int(c2)-int(c1)<int(c5)-int(c4):\n",
    "            source_pdict[chromo]+=[tuple((incre,chromo,*[int(x) for x in [c1,c2,payload]]))]\n",
    "                \n",
    "    return source_pdict, hold_pdict"
   ]
  },
  {
   "cell_type": "code",
   "execution_count": 9,
   "id": "207d0426",
   "metadata": {},
   "outputs": [],
   "source": [
    "\n",
    "def IntersectingIntervals(arr1, w_1, arr2, spacer=5000):\n",
    "    i = j = 0\n",
    "    n = len(arr1)\n",
    "    m = len(arr2)\n",
    "        \n",
    "    result=[]\n",
    "    while i < n and j < m:\n",
    "        while (j < m and arr2[j][3]<arr1[i][w_1]):\n",
    "            j+=1\n",
    "            \n",
    "        if j>=m: #one level up?\n",
    "            break\n",
    "        \n",
    "        if arr1[i][w_1]-spacer<=arr2[j][2]<=arr1[i][w_1+1]+spacer and arr1[i][w_1]-spacer<=arr2[j][3]<=arr1[i][w_1+1]+spacer and arr2[j][-1]!=0:\n",
    "            result+=[arr1[i]]\n",
    "            i+=1\n",
    "        elif arr2[j][2]>arr1[i][w_1+1]+spacer:\n",
    "            i+=1\n",
    "        else:\n",
    "            j+=1\n",
    "        \n",
    "    return result"
   ]
  },
  {
   "cell_type": "code",
   "execution_count": 10,
   "id": "8c0222ab",
   "metadata": {},
   "outputs": [],
   "source": [
    "def _load_Intersect(source_dict,source_peaks,hold_dict,spacer=2000):\n",
    "    for key in [f\"chr{n}\" for n in range(1,23)] + [\"chrX\"]:\n",
    "        hold_dict[key]=IntersectingIntervals(source_dict[5][key],2,source_peaks[key],spacer=2000)\n",
    "        hold_dict[key]+=IntersectingIntervals(source_dict[3][key],4,source_peaks[key],spacer=2000)\n",
    "        \n",
    "def _write_Intersect(hold_dict, filepath):\n",
    "    write_out = \"\"\n",
    "    for key in [f\"chr{n}\" for n in range(1,23)] + [\"chrX\"]:\n",
    "        for value in hold_dict[key]:\n",
    "            payload = value[-1]\n",
    "            c5=value[-2]\n",
    "            c4=value[-3]\n",
    "            write_out+=\"\\t\".join([str(y) for y in value[1:4]]+[value[1]]+[str(c4)]+[str(c5)]+[str(payload)])+\"\\n\"\n",
    "            \n",
    "    with open(filepath, \"w\") as outfile:\n",
    "        outfile.write(write_out)"
   ]
  },
  {
   "cell_type": "code",
   "execution_count": 11,
   "id": "27c62cc9",
   "metadata": {},
   "outputs": [],
   "source": [
    "def _z_write_Intersect(hold_dict, filepath):\n",
    "    write_out = \"\"\n",
    "    for key in [f\"chr{n}\" for n in range(1,23)] + [\"chrX\"]:\n",
    "        for value in hold_dict[key]:\n",
    "            svalue = [str(x) for x in value]\n",
    "\n",
    "            write_out+=\"\\t\".join([y for y in svalue[1:4]]+[svalue[1]]+[z for z in svalue[4:]])+\"\\n\"\n",
    "            \n",
    "    with open(filepath, \"w\") as outfile:\n",
    "        outfile.write(write_out)\n",
    "        \n",
    "def _snn_write_Intersect(hold_dict, filepath):\n",
    "    write_out = \"\"\n",
    "    for key in [f\"chr{n}\" for n in range(1,23)] + [\"chrX\"]:\n",
    "        for value in hold_dict[key]:\n",
    "            svalue = [str(x) for x in value]\n",
    "            write_out+=\"\\t\".join([y for y in svalue[1:4]]+[svalue[1]]+[z for z in svalue[4:]])+\"\\n\"            \n",
    "    with open(filepath, \"w\") as outfile:\n",
    "        outfile.write(write_out)"
   ]
  },
  {
   "cell_type": "code",
   "execution_count": 12,
   "id": "ee8319fa",
   "metadata": {},
   "outputs": [],
   "source": [
    "def z_call_CTCF_stripes(stripename, ctcfname, fileoutname, spacer=2000):\n",
    "    sdict, hdict=_zebra_read_stripes(stripename)\n",
    "    source_pdict, hold_pdict = _read_peaks(ctcfname)\n",
    "    _load_Intersect(sdict, source_pdict,hdict,spacer)\n",
    "    _z_write_Intersect(hdict, fileoutname)\n",
    "    \n",
    "def snn_call_CTCF_stripes(stripename, ctcfname, fileoutname):\n",
    "    sdict, hdict=_stripeNN_read_stripes(stripename)\n",
    "    source_pdict, hold_pdict = _read_peaks(ctcfname)\n",
    "    _load_Intersect(sdict, source_pdict,hdict,spacer)\n",
    "    _snn_write_Intersect(hdict, fileoutname)"
   ]
  },
  {
   "cell_type": "code",
   "execution_count": 13,
   "id": "9e81f2c4",
   "metadata": {},
   "outputs": [],
   "source": [
    "def call_CTCF_stripes(stripename, ctcfname, fileoutname,spacer=2000):\n",
    "    sdict, hdict=_read_stripes(stripename)\n",
    "    source_pdict, hold_pdict = _read_peaks(ctcfname)\n",
    "    _load_Intersect(sdict, source_pdict,hdict,spacer)\n",
    "    _write_Intersect(hdict, fileoutname)"
   ]
  },
  {
   "cell_type": "code",
   "execution_count": 15,
   "id": "7bccda24",
   "metadata": {},
   "outputs": [
    {
     "name": "stdout",
     "output_type": "stream",
     "text": [
      "Quagga_GM12878_Allstripes_EP.txt\r\n"
     ]
    }
   ],
   "source": [
    "!ls /nfs/turbo/umms-drjieliu/usr/temp_smoran/Fan_StripeCaller/2024_SummerPublishPush/ctcf_deficient/Othermodels/All_Intersect_EP"
   ]
  },
  {
   "cell_type": "code",
   "execution_count": 13,
   "id": "fa5d0c10",
   "metadata": {},
   "outputs": [],
   "source": [
    "# !mkdir All_Intersect_EP"
   ]
  },
  {
   "cell_type": "code",
   "execution_count": 23,
   "id": "f37cab91",
   "metadata": {},
   "outputs": [],
   "source": [
    "call_CTCF_stripes(\"/nfs/turbo/umms-drjieliu/proj/Quagga/data/GM12878_bulk/5000nt_MR10000000_ML50000_MD7000000_MW50000_WS7_SG1RH0.3_NSTR10_ALL_hg38GM12878_completedfiltered.txt\",\\\n",
    "\"./HMM_anno_peaks/GM12878_HMM_hg38_EPanno.bed\",\"./All_Intersect_EP/Quagga_GM12878_Allstripes_EP.txt\",spacer=5000)"
   ]
  },
  {
   "cell_type": "code",
   "execution_count": null,
   "id": "de2fe2cf",
   "metadata": {},
   "outputs": [],
   "source": [
    "call_CTCF_stripes(\"/nfs/turbo/umms-drjieliu/proj/Quagga/data/GM12878_bulk/5000nt_MR10000000_ML50000_MD7000000_MW50000_WS7_SG1RH0.3_NSTR10_ALL_hg38GM12878_completedfiltered.txt\",\\\n",
    "\"../sorted_GM12878_CTCF.bed\",\"Quagga_GM12878_CTCFonly.txt\")"
   ]
  },
  {
   "cell_type": "code",
   "execution_count": 21,
   "id": "5d7e6e4b",
   "metadata": {},
   "outputs": [],
   "source": [
    "z_call_CTCF_stripes(\"/home/spmoran/temp_smoran/Fan_StripeCaller/2024_SummerPublishPush/zebra_merge/sorting/sorted_Zebra_GM12878.bedpe\",\\\n",
    "                        \"../sorted_GM12878_CTCF.bed\",\"Zebra_GM12878_CTCFonly.txt\")"
   ]
  },
  {
   "cell_type": "code",
   "execution_count": 70,
   "id": "4e2868d1",
   "metadata": {},
   "outputs": [],
   "source": [
    "z_call_CTCF_stripes(\"Zebra_GM12878_noCTCF.txt\",\\\n",
    "                        \"./HMM_anno_peaks/GM12878_HMM_hg38_EPanno.bed\",\"Zebra_GM12878_EP.txt\")"
   ]
  },
  {
   "cell_type": "code",
   "execution_count": 27,
   "id": "151651da",
   "metadata": {},
   "outputs": [],
   "source": [
    "snn_call_CTCF_stripes('/home/spmoran/temp_smoran/Fan_StripeCaller/2024_SummerPublishPush/zebra_merge/sorting/sorted_stripeNN_results_filtered.tsv',\\\n",
    "                        \"../sorted_GM12878_CTCF.bed\",\"StripeNN_GM12878_CTCFonly.txt\")"
   ]
  },
  {
   "cell_type": "code",
   "execution_count": 73,
   "id": "dcff9ea6",
   "metadata": {},
   "outputs": [],
   "source": [
    "snn_call_CTCF_stripes(\"StripeNN_GM12878_noCTCF.txt\",\\\n",
    "                        \"./HMM_anno_peaks/GM12878_HMM_hg38_EPanno.bed\",\"StripeNN_GM12878_EP.txt\")"
   ]
  },
  {
   "cell_type": "code",
   "execution_count": 22,
   "id": "f518a19e",
   "metadata": {},
   "outputs": [],
   "source": [
    " z_call_CTCF_stripes(\"/nfs/turbo/umms-drjieliu/usr/temp_smoran/Fan_StripeCaller/2024_SummerPublishPush/zebra_merge/AB_zerba_merged_GM12878_3.txt\",\\\n",
    "\"../sorted_GM12878_CTCF.bed\",\"Zebra_AB_Merged_GM12878_CTCFonly.txt\")"
   ]
  },
  {
   "cell_type": "code",
   "execution_count": 80,
   "id": "101ffcde",
   "metadata": {},
   "outputs": [],
   "source": [
    "snn_call_CTCF_stripes(\"StripeNN_GM12878_noCTCF_5kspacer.txt\",\\\n",
    "                        \"./HMM_anno_peaks/GM12878_HMM_hg38_EPanno.bed\",\"StripeNN_GM12878_EP_5kinto2kspacer.txt\")"
   ]
  },
  {
   "cell_type": "code",
   "execution_count": 81,
   "id": "26019257",
   "metadata": {},
   "outputs": [],
   "source": [
    " z_call_CTCF_stripes(\"Zebra_AB_Merged_GM12878_noCTCF_5kspacer.txt\",\\\n",
    "                     \"./HMM_anno_peaks/GM12878_HMM_hg38_EPanno.bed\",\"Zebra_AB_Merged_GM12878_EP_5kinto2kspacer.txt\")"
   ]
  },
  {
   "cell_type": "code",
   "execution_count": null,
   "id": "2d2d8d19",
   "metadata": {},
   "outputs": [],
   "source": [
    "z_call_CTCF_stripes('/home/spmoran/temp_smoran/Fan_StripeCaller/2024_SummerPublishPush/zebra_merge/sorting/sorted_stripeNN_results_filtered.tsv',\\\n",
    "                        \"../sorted_GM12878_CTCF.bed\",\"StripeNN_GM12878_CTCFonly.txt\")"
   ]
  },
  {
   "cell_type": "code",
   "execution_count": 86,
   "id": "bfcaf28b",
   "metadata": {},
   "outputs": [],
   "source": [
    "call_EP_stripes(\"Quagga_GM12878_noCTCF_5kspacer.txt\",\\\n",
    "\"./HMM_anno_peaks/GM12878_HMM_hg38_EPanno.bed\",\"Quagga_GM12878_EP_5kinto2kspacer.txt\")"
   ]
  },
  {
   "cell_type": "code",
   "execution_count": 28,
   "id": "2a29c0b9",
   "metadata": {},
   "outputs": [],
   "source": [
    "call_CTCF_stripes(\"/nfs/turbo/umms-drjieliu/proj/Quagga/data/2024/micro-C/H1_MicroC_2_QuaggaNoIntersectionCTCF.txt\",\\\n",
    "\"./HMM_anno_peaks/H1_HMM_hg38_EPanno.bed\",\"H1_MicroC_noCTCF_EP.txt\",spacer=5000)"
   ]
  }
 ],
 "metadata": {
  "kernelspec": {
   "display_name": "Python 3 (ipykernel)",
   "language": "python",
   "name": "python3"
  },
  "language_info": {
   "codemirror_mode": {
    "name": "ipython",
    "version": 3
   },
   "file_extension": ".py",
   "mimetype": "text/x-python",
   "name": "python",
   "nbconvert_exporter": "python",
   "pygments_lexer": "ipython3",
   "version": "3.9.13"
  }
 },
 "nbformat": 4,
 "nbformat_minor": 5
}
